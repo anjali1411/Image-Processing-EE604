{
  "nbformat": 4,
  "nbformat_minor": 0,
  "metadata": {
    "colab": {
      "provenance": []
    },
    "kernelspec": {
      "name": "python3",
      "display_name": "Python 3"
    },
    "language_info": {
      "name": "python"
    }
  },
  "cells": [
    {
      "cell_type": "code",
      "execution_count": null,
      "metadata": {
        "id": "W1Eau0z-unCH"
      },
      "outputs": [],
      "source": [
        "import librosa\n",
        "import numpy as np\n",
        "import cv2\n",
        "from google.colab.patches import cv2_imshow"
      ]
    },
    {
      "cell_type": "code",
      "source": [
        "y, sr = librosa.load(\"/content/metal_banging1.mp3\", sr=None) #sr=None preserves sampling rate\n",
        "n_fft = 2048 #%FFT points, adjust as you need\n",
        "hop_length = 512 #%Sliding amount for windowed FFT (adjust as needed)\n",
        "spec = librosa.feature.melspectrogram(y=y, sr=44100, n_fft=204, hop_length=512,n_mels=100, fmax=22000)\n",
        "# spec_db = perform power to decibel (db) image transformation of `spec'\n",
        "# decibel conversion → 10 log(\n",
        "cv2_imshow(spec)"
      ],
      "metadata": {
        "colab": {
          "base_uri": "https://localhost:8080/",
          "height": 117
        },
        "id": "O_CVOyRtvRSJ",
        "outputId": "d4776412-139a-4b21-cc19-e56761fd626e"
      },
      "execution_count": null,
      "outputs": [
        {
          "output_type": "display_data",
          "data": {
            "text/plain": [
              "<PIL.Image.Image image mode=L size=260x100>"
            ],
            "image/png": "[encoded data removed]"
          },
          "metadata": {}
        }
      ]
    },
    {
      "cell_type": "code",
      "source": [
        "'''\n",
        "image_float = image.astype(np.float32)\n",
        "\n",
        "    # Apply the power-to-decibel transformation\n",
        "    # You can adjust the scaling factor as needed\n",
        "db_image = 10 * np.log10(image_float + 1.0)\n",
        "\n",
        "    # Normalize the pixel values to the [0, 255] range for display\n",
        "db_image = cv2.normalize(db_image, None, 0, 255, cv2.NORM_MINMAX)\n",
        "\n",
        "    # Convert the result back to uint8 (grayscale image format)\n",
        "db_image = db_image.astype(np.uint8)\n",
        "\n",
        "    # Display the original and transformed images (you may use plt.imshow for more control)\n",
        "cv2_imshow(image)\n",
        "'''"
      ],
      "metadata": {
        "colab": {
          "base_uri": "https://localhost:8080/",
          "height": 88
        },
        "id": "EYnT8N_I4xTZ",
        "outputId": "226ee044-36ab-47e8-98b3-4d284dc90377"
      },
      "execution_count": null,
      "outputs": [
        {
          "output_type": "execute_result",
          "data": {
            "text/plain": [
              "'\\nimage_float = image.astype(np.float32)\\n\\n    # Apply the power-to-decibel transformation\\n    # You can adjust the scaling factor as needed\\ndb_image = 10 * np.log10(image_float + 1.0)\\n\\n    # Normalize the pixel values to the [0, 255] range for display\\ndb_image = cv2.normalize(db_image, None, 0, 255, cv2.NORM_MINMAX)\\n\\n    # Convert the result back to uint8 (grayscale image format)\\ndb_image = db_image.astype(np.uint8)\\n\\n    # Display the original and transformed images (you may use plt.imshow for more control)\\ncv2_imshow(image)\\n'"
            ],
            "application/vnd.google.colaboratory.intrinsic+json": {
              "type": "string"
            }
          },
          "metadata": {},
          "execution_count": 11
        }
      ]
    },
    {
      "cell_type": "code",
      "source": [
        "log_mel_spectrogram = librosa.power_to_db(spec, ref=np.max)\n",
        "#image=librosa.display.specshow(log_mel_spectrogram, sr=sr, hop_length=hop_length, x_axis='time', y_axis='mel')\n",
        "# Normalize the spectrogram to the [0, 255] range\n",
        "norm_spectrogram = cv2.normalize(log_mel_spectrogram, None, 0, 255, cv2.NORM_MINMAX)\n",
        "\n",
        "# Convert to uint8 (grayscale image format)\n",
        "spectrogram_image = norm_spectrogram.astype(np.uint8)"
      ],
      "metadata": {
        "id": "eKRMZuojD2Mv"
      },
      "execution_count": null,
      "outputs": []
    },
    {
      "cell_type": "code",
      "source": [
        "cv2_imshow(spectrogram_image)"
      ],
      "metadata": {
        "colab": {
          "base_uri": "https://localhost:8080/",
          "height": 117
        },
        "id": "EBXUk8FQIsAz",
        "outputId": "ad677e0b-da47-4796-df82-72cefb962489"
      },
      "execution_count": null,
      "outputs": [
        {
          "output_type": "display_data",
          "data": {
            "text/plain": [
              "<PIL.Image.Image image mode=L size=260x100>"
            ],
            "image/png": "[encoded data removed]"
          },
          "metadata": {}
        }
      ]
    },
    {
      "cell_type": "code",
      "source": [
        "(T, threshInv) = cv2.threshold(spectrogram_image, 100, 255,\n",
        "cv2.THRESH_BINARY)\n",
        "cv2_imshow(threshInv)"
      ],
      "metadata": {
        "colab": {
          "base_uri": "https://localhost:8080/",
          "height": 117
        },
        "id": "wr1CVZHkxM13",
        "outputId": "9c3bba2d-e98b-47fd-d619-7f661d6897da"
      },
      "execution_count": null,
      "outputs": [
        {
          "output_type": "display_data",
          "data": {
            "text/plain": [
              "<PIL.Image.Image image mode=L size=260x100>"
            ],
            "image/png": "[encoded data removed]"
          },
          "metadata": {}
        }
      ]
    },
    {
      "cell_type": "code",
      "source": [
        "import matplotlib.pyplot as plt\n",
        "threshInv"
      ],
      "metadata": {
        "id": "zQRhKjQOLA-E",
        "colab": {
          "base_uri": "https://localhost:8080/"
        },
        "outputId": "513475e6-31eb-4cff-a612-ed5b6ebd09a6"
      },
      "execution_count": null,
      "outputs": [
        {
          "output_type": "execute_result",
          "data": {
            "text/plain": [
              "array([[  0, 255,   0, 255, 255, 255],\n",
              "       [  0, 255,   0, 255, 255, 255],\n",
              "       [  0, 255,   0, 255, 255, 255],\n",
              "       [  0, 255,   0, 255, 255, 255],\n",
              "       [  0, 255,   0, 255, 255, 255],\n",
              "       [  0, 255, 255, 255, 255, 255],\n",
              "       [  0, 255, 255, 255, 255, 255],\n",
              "       [  0, 255, 255, 255, 255, 255],\n",
              "       [  0, 255, 255, 255, 255, 255],\n",
              "       [  0, 255, 255, 255, 255, 255]], dtype=uint8)"
            ]
          },
          "metadata": {},
          "execution_count": 6
        }
      ]
    },
    {
      "cell_type": "code",
      "source": [
        "count=0\n",
        "for i in range(threshInv.shape[0]):\n",
        "  for j in range(threshInv.shape[1]):\n",
        "    if threshInv[i][j]==255:\n",
        "      count=count+1"
      ],
      "metadata": {
        "id": "ju2oAG1W009N"
      },
      "execution_count": null,
      "outputs": []
    },
    {
      "cell_type": "code",
      "source": [
        "count"
      ],
      "metadata": {
        "colab": {
          "base_uri": "https://localhost:8080/"
        },
        "id": "E17tKvmv1soR",
        "outputId": "f87e29f2-d618-4426-ed8a-2cd394caecef"
      },
      "execution_count": null,
      "outputs": [
        {
          "output_type": "execute_result",
          "data": {
            "text/plain": [
              "4005"
            ]
          },
          "metadata": {},
          "execution_count": 66
        }
      ]
    },
    {
      "cell_type": "code",
      "source": [
        "#spectrogram1 = cv2.cvtColor(log_mel_spectrogram, cv2.COLOR_BGR2GRAY)\n",
        "hist1 = cv2.calcHist([threshInv], [0], None, [256], [0, 256])\n",
        "#cv2.normalize(hist1, hist1)\n",
        "hist1\n",
        "plt.figure(figsize=(8, 6))\n",
        "hist_val, bin_edge, _ =plt.hist(hist1, bins=256, range=(0, 256), density=True, color='b', alpha=0.7)\n",
        "plt.title('Histogram')\n",
        "plt.xlabel('Pixel Value')\n",
        "plt.ylabel('Normalized Frequency')\n",
        "plt.show()"
      ],
      "metadata": {
        "colab": {
          "base_uri": "https://localhost:8080/",
          "height": 564
        },
        "id": "pBKvBhP2y6t4",
        "outputId": "62e020c3-de05-41f7-e8b5-69227b833873"
      },
      "execution_count": null,
      "outputs": [
        {
          "output_type": "display_data",
          "data": {
            "text/plain": [
              "<Figure size 800x600 with 1 Axes>"
            ],
            "image/png": "[encoded data removed]"
          },
          "metadata": {}
        }
      ]
    },
    {
      "cell_type": "code",
      "source": [
        "'''# Define the number of merged bins (25 bins in this case)\n",
        "num_merged_bins = 25\n",
        "\n",
        "# Calculate the number of 256 bins in each merged bin\n",
        "bins_per_merged_bin = 256 // num_merged_bins\n",
        "\n",
        "# Initialize an array to store frequencies for the merged bins\n",
        "frequencies_merged_bins = np.zeros(num_merged_bins)\n",
        "\n",
        "# Calculate the frequencies for the merged bins by summing the corresponding 256 bins\n",
        "for i in range(num_merged_bins):\n",
        "    start_bin = i * bins_per_merged_bin\n",
        "    end_bin = (i + 1) * bins_per_merged_bin\n",
        "    frequencies_merged_bins[i] = np.sum(hist1[start_bin:end_bin])'''"
      ],
      "metadata": {
        "colab": {
          "base_uri": "https://localhost:8080/",
          "height": 105
        },
        "id": "TyVMEoXjzKqt",
        "outputId": "c21d6fcd-4a64-432c-a94d-53cb1ff1770f"
      },
      "execution_count": null,
      "outputs": [
        {
          "output_type": "execute_result",
          "data": {
            "text/plain": [
              "'# Define the number of merged bins (25 bins in this case)\\nnum_merged_bins = 25\\n\\n# Calculate the number of 256 bins in each merged bin\\nbins_per_merged_bin = 256 // num_merged_bins\\n\\n# Initialize an array to store frequencies for the merged bins\\nfrequencies_merged_bins = np.zeros(num_merged_bins)\\n\\n# Calculate the frequencies for the merged bins by summing the corresponding 256 bins\\nfor i in range(num_merged_bins):\\n    start_bin = i * bins_per_merged_bin\\n    end_bin = (i + 1) * bins_per_merged_bin\\n    frequencies_merged_bins[i] = np.sum(hist1[start_bin:end_bin])'"
            ],
            "application/vnd.google.colaboratory.intrinsic+json": {
              "type": "string"
            }
          },
          "metadata": {},
          "execution_count": 30
        }
      ]
    },
    {
      "cell_type": "code",
      "source": [
        "# Find the maximum value and its corresponding bin\n",
        "max_value = np.max(hist_val)\n",
        "max_bin = np.argmax(hist_val)"
      ],
      "metadata": {
        "id": "qNVHTo5v00ds"
      },
      "execution_count": null,
      "outputs": []
    },
    {
      "cell_type": "code",
      "source": [
        "max_bin"
      ],
      "metadata": {
        "colab": {
          "base_uri": "https://localhost:8080/"
        },
        "id": "R64AXjSJewin",
        "outputId": "58a3fff7-5051-461f-b132-91d805ff4d81"
      },
      "execution_count": null,
      "outputs": [
        {
          "output_type": "execute_result",
          "data": {
            "text/plain": [
              "59"
            ]
          },
          "metadata": {},
          "execution_count": 17
        }
      ]
    },
    {
      "cell_type": "code",
      "source": [
        "if max_bin!=0 :\n",
        "  print(\"good quality\")\n",
        "else :\n",
        "  print(\"bad quality\")"
      ],
      "metadata": {
        "colab": {
          "base_uri": "https://localhost:8080/"
        },
        "id": "4Ob39QSMnG3D",
        "outputId": "a1b5f222-6056-43e3-b96f-b4b799283af4"
      },
      "execution_count": null,
      "outputs": [
        {
          "output_type": "stream",
          "name": "stdout",
          "text": [
            "good quality\n"
          ]
        }
      ]
    },
    {
      "cell_type": "code",
      "source": [
        "fourier = cv2.dft(np.float32(spectrogram_image), flags=cv2.DFT_COMPLEX_OUTPUT)\n",
        "\n",
        "# Shift the zero-frequency component to the center of the spectrum\n",
        "fourier_shift = np.fft.fftshift(fourier)\n",
        "\n",
        "# calculate the magnitude of the Fourier Transform\n",
        "magnitude = 20*np.log(cv2.magnitude(fourier_shift[:,:,0],fourier_shift[:,:,1]))\n",
        "\n",
        "# Scale the magnitude for display\n",
        "magnitude = cv2.normalize(magnitude, None, 0, 255, cv2.NORM_MINMAX, cv2.CV_8UC1)"
      ],
      "metadata": {
        "id": "hWX6mlXpnoRA"
      },
      "execution_count": null,
      "outputs": []
    },
    {
      "cell_type": "code",
      "source": [
        "np.median(hist1)"
      ],
      "metadata": {
        "colab": {
          "base_uri": "https://localhost:8080/"
        },
        "id": "FIFFJW3N-vhD",
        "outputId": "9acedf88-1259-4df2-b946-f3faba0cd7cf"
      },
      "execution_count": null,
      "outputs": [
        {
          "output_type": "execute_result",
          "data": {
            "text/plain": [
              "62.0"
            ]
          },
          "metadata": {},
          "execution_count": 18
        }
      ]
    },
    {
      "cell_type": "code",
      "source": [],
      "metadata": {
        "id": "TQJapShA-yyM"
      },
      "execution_count": null,
      "outputs": []
    }
  ]
}
